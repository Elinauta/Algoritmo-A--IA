{
  "nbformat": 4,
  "nbformat_minor": 0,
  "metadata": {
    "colab": {
      "name": "Algoritmo_a.py",
      "provenance": [],
      "authorship_tag": "ABX9TyN9Fd43SUY+uypXsxZUGYLz",
      "include_colab_link": true
    },
    "kernelspec": {
      "name": "python3",
      "display_name": "Python 3"
    },
    "language_info": {
      "name": "python"
    }
  },
  "cells": [
    {
      "cell_type": "markdown",
      "metadata": {
        "id": "view-in-github",
        "colab_type": "text"
      },
      "source": [
        "<a href=\"https://colab.research.google.com/github/Elinauta/Algoritmo-A--IA/blob/main/Algoritmo_a_py.ipynb\" target=\"_parent\"><img src=\"https://colab.research.google.com/assets/colab-badge.svg\" alt=\"Open In Colab\"/></a>"
      ]
    },
    {
      "cell_type": "code",
      "metadata": {
        "colab": {
          "base_uri": "https://localhost:8080/",
          "height": 367
        },
        "id": "GRVi2ha56QjO",
        "outputId": "bffd9108-e512-4597-b8ce-d98f288fc784"
      },
      "source": [
        "#ALGORITMO A*\n",
        "\n",
        "#arista=v1:[v2,w]\n",
        "Grafo = {'a':[['b',168.05],['c',318.71],['f',144.63]],\n",
        "         'b':[['a',168.05],['c',198.16],['d',246.56],['e',213.14],['f',193.84]],\n",
        "         'c':[['a',318.71],['e',140.04],['b',198.16],['d',142.34]],\n",
        "         'd':[['b',246.56],['c',142.34],['f',155.46],['g',137.18]],\n",
        "         'e':[['b',213.14],['c',140.04],['g',298.11]],\n",
        "         'f':[['a',144.63],['b',193.84],['d',155.46]],\n",
        "         'g':[['d',137.18],['e',298.11]]\n",
        "         }\n",
        "\n",
        "#Heuristica es la distacia del nodo a la meta h'(n)\n",
        "heuristica = {'a':420.12,'b':346.44,'c':166.74,'d':137.18,'e':289.11,'f':292.62,'g':0}\n",
        "costo = {'a':0}\n",
        "\n",
        "def Busqueda():\n",
        "  global Grafo, heuristica\n",
        "  #Listado de los nodos hijos a evaluar. Cola de prioridad\n",
        "  lista_abierta = [['a', 0]]\n",
        "  #Listado de los nodos visitados. Arbol de busqueda\n",
        "  lista_cerrada = []\n",
        "  print(lista_abierta)\n",
        "  \"\"\"Para encontrar los nodos visitados\"\"\"\n",
        "  while True:\n",
        "    # fn = f(n) = g(n) + h(n)\n",
        "    fn = [i[1] for i in lista_abierta]   \n",
        "    chosen_index = fn.index(min(fn))\n",
        "    #Nodo actual\n",
        "    nodo = lista_abierta[chosen_index][0]  \n",
        "    lista_cerrada.append(lista_abierta[chosen_index])\n",
        "    del lista_abierta[chosen_index]\n",
        "    # Sale del ciclo si el nodo es el nodo meta\n",
        "    if lista_cerrada[-1][0] == 'g':        \n",
        "      break\n",
        "      for item in Grafo[nodo]:\n",
        "        if item[0] in [closed_item[0] for closed_item in lista_cerrada]:\n",
        "          continue\n",
        "          # Agrega el nodo al diccionario de costos\n",
        "          costo.update({item[0]: costo[nodo] + item[1]})          \n",
        "          # Calcula f(n) para el nodo actual\n",
        "          fn_nodo = costo[nodo] + heuristica[item[0]] + item[1]     \n",
        "          temp = [item[0], fn_nodo]\n",
        "          #Guarda f(n) a la lista abierta\n",
        "          lista_abierta.append(temp)      \n",
        "\n",
        "\n",
        "  '''Para encontrar la secuencia mas optima de llegar a la meta'''\n",
        "  nodo_trazado = 'g'      \n",
        "  secuencia = ['g']       \n",
        "  for i in range(len(lisa_cerrada)-2, -1, -1):\n",
        "    #para el nodo actual\n",
        "    check_nodo = lista_cerrada[i][0]           \n",
        "    if nodo_trazado in [children[0] for children in Grafo[check_nodo]]:\n",
        "      costo_hijos = [temp[1] for temp in Grafo[check_nodo]]\n",
        "      nodos_hijos = [temp[0] for temp in Grafo[check_nodo]]\n",
        "\n",
        "      if costo[check_nodo] + costo_hijos[nodos_hijos.index(nodo_trazado)] == costo[nodo_trazado]:\n",
        "        secuencia.append(check_nodo)\n",
        "        nodo_trazado = check_nodo\n",
        "  secuencia.reverse()             \n",
        "\n",
        "  return lista_cerrada, secuencia\n",
        "\n",
        "if __name__ == '__main__': \n",
        "  nodos_visitados, arbol_nodos = Busqueda()\n",
        "  print('Nodos visitados: ' + str(nodos_visitados))\n",
        "  print('Arbol de busqueda: ' + str(arbol_nodos))\n"
      ],
      "execution_count": null,
      "outputs": [
        {
          "output_type": "stream",
          "text": [
            "[['a', 0]]\n"
          ],
          "name": "stdout"
        },
        {
          "output_type": "error",
          "ename": "ValueError",
          "evalue": "ignored",
          "traceback": [
            "\u001b[0;31m---------------------------------------------------------------------------\u001b[0m",
            "\u001b[0;31mValueError\u001b[0m                                Traceback (most recent call last)",
            "\u001b[0;32m<ipython-input-41-87d662093aa2>\u001b[0m in \u001b[0;36m<module>\u001b[0;34m()\u001b[0m\n\u001b[1;32m     64\u001b[0m \u001b[0;34m\u001b[0m\u001b[0m\n\u001b[1;32m     65\u001b[0m \u001b[0;32mif\u001b[0m \u001b[0m__name__\u001b[0m \u001b[0;34m==\u001b[0m \u001b[0;34m'__main__'\u001b[0m\u001b[0;34m:\u001b[0m\u001b[0;34m\u001b[0m\u001b[0;34m\u001b[0m\u001b[0m\n\u001b[0;32m---> 66\u001b[0;31m   \u001b[0mnodos_visitados\u001b[0m\u001b[0;34m,\u001b[0m \u001b[0marbol_nodos\u001b[0m \u001b[0;34m=\u001b[0m \u001b[0mBusqueda\u001b[0m\u001b[0;34m(\u001b[0m\u001b[0;34m)\u001b[0m\u001b[0;34m\u001b[0m\u001b[0;34m\u001b[0m\u001b[0m\n\u001b[0m\u001b[1;32m     67\u001b[0m   \u001b[0mprint\u001b[0m\u001b[0;34m(\u001b[0m\u001b[0;34m'Nodos visitados: '\u001b[0m \u001b[0;34m+\u001b[0m \u001b[0mstr\u001b[0m\u001b[0;34m(\u001b[0m\u001b[0mnodos_visitados\u001b[0m\u001b[0;34m)\u001b[0m\u001b[0;34m)\u001b[0m\u001b[0;34m\u001b[0m\u001b[0;34m\u001b[0m\u001b[0m\n\u001b[1;32m     68\u001b[0m   \u001b[0mprint\u001b[0m\u001b[0;34m(\u001b[0m\u001b[0;34m'Arbol de busqueda: '\u001b[0m \u001b[0;34m+\u001b[0m \u001b[0mstr\u001b[0m\u001b[0;34m(\u001b[0m\u001b[0marbol_nodos\u001b[0m\u001b[0;34m)\u001b[0m\u001b[0;34m)\u001b[0m\u001b[0;34m\u001b[0m\u001b[0;34m\u001b[0m\u001b[0m\n",
            "\u001b[0;32m<ipython-input-41-87d662093aa2>\u001b[0m in \u001b[0;36mBusqueda\u001b[0;34m()\u001b[0m\n\u001b[1;32m     26\u001b[0m     \u001b[0;31m# fn = f(n) = g(n) + h(n)\u001b[0m\u001b[0;34m\u001b[0m\u001b[0;34m\u001b[0m\u001b[0;34m\u001b[0m\u001b[0m\n\u001b[1;32m     27\u001b[0m     \u001b[0mfn\u001b[0m \u001b[0;34m=\u001b[0m \u001b[0;34m[\u001b[0m\u001b[0mi\u001b[0m\u001b[0;34m[\u001b[0m\u001b[0;36m1\u001b[0m\u001b[0;34m]\u001b[0m \u001b[0;32mfor\u001b[0m \u001b[0mi\u001b[0m \u001b[0;32min\u001b[0m \u001b[0mlista_abierta\u001b[0m\u001b[0;34m]\u001b[0m\u001b[0;34m\u001b[0m\u001b[0;34m\u001b[0m\u001b[0m\n\u001b[0;32m---> 28\u001b[0;31m     \u001b[0mchosen_index\u001b[0m \u001b[0;34m=\u001b[0m \u001b[0mfn\u001b[0m\u001b[0;34m.\u001b[0m\u001b[0mindex\u001b[0m\u001b[0;34m(\u001b[0m\u001b[0mmin\u001b[0m\u001b[0;34m(\u001b[0m\u001b[0mfn\u001b[0m\u001b[0;34m)\u001b[0m\u001b[0;34m)\u001b[0m\u001b[0;34m\u001b[0m\u001b[0;34m\u001b[0m\u001b[0m\n\u001b[0m\u001b[1;32m     29\u001b[0m     \u001b[0;31m#Nodo actual\u001b[0m\u001b[0;34m\u001b[0m\u001b[0;34m\u001b[0m\u001b[0;34m\u001b[0m\u001b[0m\n\u001b[1;32m     30\u001b[0m     \u001b[0mnodo\u001b[0m \u001b[0;34m=\u001b[0m \u001b[0mlista_abierta\u001b[0m\u001b[0;34m[\u001b[0m\u001b[0mchosen_index\u001b[0m\u001b[0;34m]\u001b[0m\u001b[0;34m[\u001b[0m\u001b[0;36m0\u001b[0m\u001b[0;34m]\u001b[0m\u001b[0;34m\u001b[0m\u001b[0;34m\u001b[0m\u001b[0m\n",
            "\u001b[0;31mValueError\u001b[0m: min() arg is an empty sequence"
          ]
        }
      ]
    }
  ]
}